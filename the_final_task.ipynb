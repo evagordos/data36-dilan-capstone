{
 "cells": [
  {
   "cell_type": "markdown",
   "id": "6fd9cc7c",
   "metadata": {},
   "source": [
    "# DILAN’S TRAVEL GUIDE"
   ]
  },
  {
   "cell_type": "markdown",
   "id": "ee842768",
   "metadata": {},
   "source": [
    "## THE FINAL TASK - JUNIOR DATA SCIENTIST’S FIRST MONTH"
   ]
  },
  {
   "cell_type": "code",
   "execution_count": 2,
   "id": "812131f9",
   "metadata": {},
   "outputs": [],
   "source": [
    "import numpy as np\n",
    "import pandas as pd"
   ]
  },
  {
   "cell_type": "markdown",
   "id": "65e55163",
   "metadata": {},
   "source": [
    "### importing per funnel data"
   ]
  },
  {
   "cell_type": "code",
   "execution_count": 3,
   "id": "90bb465b",
   "metadata": {},
   "outputs": [],
   "source": [
    "first_read = pd.read_csv('first_read.csv', delimiter = ';', names = ['date_time', 'event_type', 'country', 'user_id', 'source', 'topic'])"
   ]
  },
  {
   "cell_type": "code",
   "execution_count": 4,
   "id": "74bac7bb",
   "metadata": {},
   "outputs": [],
   "source": [
    "returning_read = pd.read_csv('returning_read.csv', delimiter = ';', names = ['date_time', 'event_type', 'country', 'user_id', 'topic'])"
   ]
  },
  {
   "cell_type": "code",
   "execution_count": 5,
   "id": "5ca0c2a3",
   "metadata": {},
   "outputs": [],
   "source": [
    "subscription = pd.read_csv('subscribe.csv', delimiter = ';', names = ['date_time', 'event_type', 'user_id'])"
   ]
  },
  {
   "cell_type": "code",
   "execution_count": 6,
   "id": "67f3da0f",
   "metadata": {},
   "outputs": [],
   "source": [
    "purchase = pd.read_csv('buy.csv', delimiter = ';', names = ['date_time', 'event_type', 'user_id', 'price'])"
   ]
  },
  {
   "cell_type": "markdown",
   "id": "271f4745",
   "metadata": {},
   "source": [
    "### only the date is necessary for further analysis (time is deleted)"
   ]
  },
  {
   "cell_type": "code",
   "execution_count": 7,
   "id": "ab956c7d",
   "metadata": {},
   "outputs": [],
   "source": [
    "first_read['date_time'] = first_read['date_time'].apply(lambda d: d.split(' ')[0])"
   ]
  },
  {
   "cell_type": "code",
   "execution_count": 8,
   "id": "4df1b72d",
   "metadata": {},
   "outputs": [],
   "source": [
    "returning_read['date_time'] = returning_read['date_time'].apply(lambda d: d.split(' ')[0])"
   ]
  },
  {
   "cell_type": "code",
   "execution_count": 9,
   "id": "435a3119",
   "metadata": {},
   "outputs": [
    {
     "data": {
      "text/html": [
       "<div>\n",
       "<style scoped>\n",
       "    .dataframe tbody tr th:only-of-type {\n",
       "        vertical-align: middle;\n",
       "    }\n",
       "\n",
       "    .dataframe tbody tr th {\n",
       "        vertical-align: top;\n",
       "    }\n",
       "\n",
       "    .dataframe thead th {\n",
       "        text-align: right;\n",
       "    }\n",
       "</style>\n",
       "<table border=\"1\" class=\"dataframe\">\n",
       "  <thead>\n",
       "    <tr style=\"text-align: right;\">\n",
       "      <th></th>\n",
       "      <th>date_time</th>\n",
       "      <th>event_type</th>\n",
       "      <th>country</th>\n",
       "      <th>user_id</th>\n",
       "      <th>topic</th>\n",
       "    </tr>\n",
       "  </thead>\n",
       "  <tbody>\n",
       "    <tr>\n",
       "      <th>0</th>\n",
       "      <td>2018-01-01</td>\n",
       "      <td>read</td>\n",
       "      <td>country_5</td>\n",
       "      <td>2458151287</td>\n",
       "      <td>North America</td>\n",
       "    </tr>\n",
       "    <tr>\n",
       "      <th>1</th>\n",
       "      <td>2018-01-01</td>\n",
       "      <td>read</td>\n",
       "      <td>country_4</td>\n",
       "      <td>2458151279</td>\n",
       "      <td>Asia</td>\n",
       "    </tr>\n",
       "    <tr>\n",
       "      <th>2</th>\n",
       "      <td>2018-01-01</td>\n",
       "      <td>read</td>\n",
       "      <td>country_4</td>\n",
       "      <td>2458151525</td>\n",
       "      <td>Africa</td>\n",
       "    </tr>\n",
       "    <tr>\n",
       "      <th>3</th>\n",
       "      <td>2018-01-01</td>\n",
       "      <td>read</td>\n",
       "      <td>country_5</td>\n",
       "      <td>2458151287</td>\n",
       "      <td>Asia</td>\n",
       "    </tr>\n",
       "    <tr>\n",
       "      <th>4</th>\n",
       "      <td>2018-01-01</td>\n",
       "      <td>read</td>\n",
       "      <td>country_5</td>\n",
       "      <td>2458151315</td>\n",
       "      <td>South America</td>\n",
       "    </tr>\n",
       "  </tbody>\n",
       "</table>\n",
       "</div>"
      ],
      "text/plain": [
       "    date_time event_type    country     user_id          topic\n",
       "0  2018-01-01       read  country_5  2458151287  North America\n",
       "1  2018-01-01       read  country_4  2458151279           Asia\n",
       "2  2018-01-01       read  country_4  2458151525         Africa\n",
       "3  2018-01-01       read  country_5  2458151287           Asia\n",
       "4  2018-01-01       read  country_5  2458151315  South America"
      ]
     },
     "execution_count": 9,
     "metadata": {},
     "output_type": "execute_result"
    }
   ],
   "source": [
    "returning_read.head()"
   ]
  },
  {
   "cell_type": "code",
   "execution_count": 10,
   "id": "25f5d284",
   "metadata": {},
   "outputs": [],
   "source": [
    "subscription['date_time'] = subscription['date_time'].apply(lambda d: d.split(' ')[0])"
   ]
  },
  {
   "cell_type": "code",
   "execution_count": 11,
   "id": "92d111c0",
   "metadata": {},
   "outputs": [
    {
     "data": {
      "text/html": [
       "<div>\n",
       "<style scoped>\n",
       "    .dataframe tbody tr th:only-of-type {\n",
       "        vertical-align: middle;\n",
       "    }\n",
       "\n",
       "    .dataframe tbody tr th {\n",
       "        vertical-align: top;\n",
       "    }\n",
       "\n",
       "    .dataframe thead th {\n",
       "        text-align: right;\n",
       "    }\n",
       "</style>\n",
       "<table border=\"1\" class=\"dataframe\">\n",
       "  <thead>\n",
       "    <tr style=\"text-align: right;\">\n",
       "      <th></th>\n",
       "      <th>date_time</th>\n",
       "      <th>event_type</th>\n",
       "      <th>user_id</th>\n",
       "    </tr>\n",
       "  </thead>\n",
       "  <tbody>\n",
       "    <tr>\n",
       "      <th>0</th>\n",
       "      <td>2018-01-01</td>\n",
       "      <td>subscribe</td>\n",
       "      <td>2458151268</td>\n",
       "    </tr>\n",
       "    <tr>\n",
       "      <th>1</th>\n",
       "      <td>2018-01-01</td>\n",
       "      <td>subscribe</td>\n",
       "      <td>2458151267</td>\n",
       "    </tr>\n",
       "    <tr>\n",
       "      <th>2</th>\n",
       "      <td>2018-01-01</td>\n",
       "      <td>subscribe</td>\n",
       "      <td>2458151309</td>\n",
       "    </tr>\n",
       "    <tr>\n",
       "      <th>3</th>\n",
       "      <td>2018-01-01</td>\n",
       "      <td>subscribe</td>\n",
       "      <td>2458151358</td>\n",
       "    </tr>\n",
       "    <tr>\n",
       "      <th>4</th>\n",
       "      <td>2018-01-01</td>\n",
       "      <td>subscribe</td>\n",
       "      <td>2458151361</td>\n",
       "    </tr>\n",
       "  </tbody>\n",
       "</table>\n",
       "</div>"
      ],
      "text/plain": [
       "    date_time event_type     user_id\n",
       "0  2018-01-01  subscribe  2458151268\n",
       "1  2018-01-01  subscribe  2458151267\n",
       "2  2018-01-01  subscribe  2458151309\n",
       "3  2018-01-01  subscribe  2458151358\n",
       "4  2018-01-01  subscribe  2458151361"
      ]
     },
     "execution_count": 11,
     "metadata": {},
     "output_type": "execute_result"
    }
   ],
   "source": [
    "subscription.head()"
   ]
  },
  {
   "cell_type": "code",
   "execution_count": 12,
   "id": "c4b267be",
   "metadata": {},
   "outputs": [],
   "source": [
    "purchase['date_time'] = purchase['date_time'].apply(lambda d: d.split(' ')[0])"
   ]
  },
  {
   "cell_type": "code",
   "execution_count": 13,
   "id": "e31422fc",
   "metadata": {},
   "outputs": [
    {
     "data": {
      "text/html": [
       "<div>\n",
       "<style scoped>\n",
       "    .dataframe tbody tr th:only-of-type {\n",
       "        vertical-align: middle;\n",
       "    }\n",
       "\n",
       "    .dataframe tbody tr th {\n",
       "        vertical-align: top;\n",
       "    }\n",
       "\n",
       "    .dataframe thead th {\n",
       "        text-align: right;\n",
       "    }\n",
       "</style>\n",
       "<table border=\"1\" class=\"dataframe\">\n",
       "  <thead>\n",
       "    <tr style=\"text-align: right;\">\n",
       "      <th></th>\n",
       "      <th>date_time</th>\n",
       "      <th>event_type</th>\n",
       "      <th>user_id</th>\n",
       "      <th>price</th>\n",
       "    </tr>\n",
       "  </thead>\n",
       "  <tbody>\n",
       "    <tr>\n",
       "      <th>0</th>\n",
       "      <td>2018-01-01</td>\n",
       "      <td>buy</td>\n",
       "      <td>2458151555</td>\n",
       "      <td>8</td>\n",
       "    </tr>\n",
       "    <tr>\n",
       "      <th>1</th>\n",
       "      <td>2018-01-01</td>\n",
       "      <td>buy</td>\n",
       "      <td>2458151933</td>\n",
       "      <td>8</td>\n",
       "    </tr>\n",
       "    <tr>\n",
       "      <th>2</th>\n",
       "      <td>2018-01-01</td>\n",
       "      <td>buy</td>\n",
       "      <td>2458152245</td>\n",
       "      <td>8</td>\n",
       "    </tr>\n",
       "    <tr>\n",
       "      <th>3</th>\n",
       "      <td>2018-01-01</td>\n",
       "      <td>buy</td>\n",
       "      <td>2458152315</td>\n",
       "      <td>8</td>\n",
       "    </tr>\n",
       "    <tr>\n",
       "      <th>4</th>\n",
       "      <td>2018-01-01</td>\n",
       "      <td>buy</td>\n",
       "      <td>2458152371</td>\n",
       "      <td>8</td>\n",
       "    </tr>\n",
       "    <tr>\n",
       "      <th>5</th>\n",
       "      <td>2018-01-01</td>\n",
       "      <td>buy</td>\n",
       "      <td>2458152371</td>\n",
       "      <td>80</td>\n",
       "    </tr>\n",
       "    <tr>\n",
       "      <th>6</th>\n",
       "      <td>2018-01-01</td>\n",
       "      <td>buy</td>\n",
       "      <td>2458152315</td>\n",
       "      <td>80</td>\n",
       "    </tr>\n",
       "    <tr>\n",
       "      <th>7</th>\n",
       "      <td>2018-01-02</td>\n",
       "      <td>buy</td>\n",
       "      <td>2458153264</td>\n",
       "      <td>8</td>\n",
       "    </tr>\n",
       "    <tr>\n",
       "      <th>8</th>\n",
       "      <td>2018-01-02</td>\n",
       "      <td>buy</td>\n",
       "      <td>2458151481</td>\n",
       "      <td>8</td>\n",
       "    </tr>\n",
       "    <tr>\n",
       "      <th>9</th>\n",
       "      <td>2018-01-02</td>\n",
       "      <td>buy</td>\n",
       "      <td>2458152579</td>\n",
       "      <td>8</td>\n",
       "    </tr>\n",
       "  </tbody>\n",
       "</table>\n",
       "</div>"
      ],
      "text/plain": [
       "    date_time event_type     user_id  price\n",
       "0  2018-01-01        buy  2458151555      8\n",
       "1  2018-01-01        buy  2458151933      8\n",
       "2  2018-01-01        buy  2458152245      8\n",
       "3  2018-01-01        buy  2458152315      8\n",
       "4  2018-01-01        buy  2458152371      8\n",
       "5  2018-01-01        buy  2458152371     80\n",
       "6  2018-01-01        buy  2458152315     80\n",
       "7  2018-01-02        buy  2458153264      8\n",
       "8  2018-01-02        buy  2458151481      8\n",
       "9  2018-01-02        buy  2458152579      8"
      ]
     },
     "execution_count": 13,
     "metadata": {},
     "output_type": "execute_result"
    }
   ],
   "source": [
    "purchase.head(10)"
   ]
  },
  {
   "cell_type": "markdown",
   "id": "432cd79f",
   "metadata": {},
   "source": [
    "### first reads by country"
   ]
  },
  {
   "cell_type": "code",
   "execution_count": 25,
   "id": "65facec3",
   "metadata": {},
   "outputs": [
    {
     "data": {
      "text/html": [
       "<div>\n",
       "<style scoped>\n",
       "    .dataframe tbody tr th:only-of-type {\n",
       "        vertical-align: middle;\n",
       "    }\n",
       "\n",
       "    .dataframe tbody tr th {\n",
       "        vertical-align: top;\n",
       "    }\n",
       "\n",
       "    .dataframe thead th {\n",
       "        text-align: right;\n",
       "    }\n",
       "</style>\n",
       "<table border=\"1\" class=\"dataframe\">\n",
       "  <thead>\n",
       "    <tr style=\"text-align: right;\">\n",
       "      <th></th>\n",
       "      <th>event_type</th>\n",
       "    </tr>\n",
       "    <tr>\n",
       "      <th>country</th>\n",
       "      <th></th>\n",
       "    </tr>\n",
       "  </thead>\n",
       "  <tbody>\n",
       "    <tr>\n",
       "      <th>country_7</th>\n",
       "      <td>51791</td>\n",
       "    </tr>\n",
       "    <tr>\n",
       "      <th>country_2</th>\n",
       "      <td>50675</td>\n",
       "    </tr>\n",
       "    <tr>\n",
       "      <th>country_5</th>\n",
       "      <td>40349</td>\n",
       "    </tr>\n",
       "    <tr>\n",
       "      <th>country_6</th>\n",
       "      <td>31156</td>\n",
       "    </tr>\n",
       "    <tr>\n",
       "      <th>country_8</th>\n",
       "      <td>15483</td>\n",
       "    </tr>\n",
       "    <tr>\n",
       "      <th>country_4</th>\n",
       "      <td>12751</td>\n",
       "    </tr>\n",
       "    <tr>\n",
       "      <th>country_1</th>\n",
       "      <td>5076</td>\n",
       "    </tr>\n",
       "    <tr>\n",
       "      <th>country_3</th>\n",
       "      <td>2742</td>\n",
       "    </tr>\n",
       "  </tbody>\n",
       "</table>\n",
       "</div>"
      ],
      "text/plain": [
       "           event_type\n",
       "country              \n",
       "country_7       51791\n",
       "country_2       50675\n",
       "country_5       40349\n",
       "country_6       31156\n",
       "country_8       15483\n",
       "country_4       12751\n",
       "country_1        5076\n",
       "country_3        2742"
      ]
     },
     "execution_count": 25,
     "metadata": {},
     "output_type": "execute_result"
    }
   ],
   "source": [
    "(first_read\n",
    "     .groupby('country')\n",
    "     .count()\n",
    "     .sort_values(by = ['event_type'], ascending = False)[['event_type']])"
   ]
  },
  {
   "cell_type": "markdown",
   "id": "48e34239",
   "metadata": {},
   "source": [
    "### returning reads by country"
   ]
  },
  {
   "cell_type": "code",
   "execution_count": 14,
   "id": "89494ca3",
   "metadata": {},
   "outputs": [
    {
     "data": {
      "text/html": [
       "<div>\n",
       "<style scoped>\n",
       "    .dataframe tbody tr th:only-of-type {\n",
       "        vertical-align: middle;\n",
       "    }\n",
       "\n",
       "    .dataframe tbody tr th {\n",
       "        vertical-align: top;\n",
       "    }\n",
       "\n",
       "    .dataframe thead th {\n",
       "        text-align: right;\n",
       "    }\n",
       "</style>\n",
       "<table border=\"1\" class=\"dataframe\">\n",
       "  <thead>\n",
       "    <tr style=\"text-align: right;\">\n",
       "      <th></th>\n",
       "      <th>event_type</th>\n",
       "    </tr>\n",
       "    <tr>\n",
       "      <th>country</th>\n",
       "      <th></th>\n",
       "    </tr>\n",
       "  </thead>\n",
       "  <tbody>\n",
       "    <tr>\n",
       "      <th>country_5</th>\n",
       "      <td>109383</td>\n",
       "    </tr>\n",
       "    <tr>\n",
       "      <th>country_7</th>\n",
       "      <td>80276</td>\n",
       "    </tr>\n",
       "    <tr>\n",
       "      <th>country_2</th>\n",
       "      <td>79401</td>\n",
       "    </tr>\n",
       "    <tr>\n",
       "      <th>country_4</th>\n",
       "      <td>58507</td>\n",
       "    </tr>\n",
       "    <tr>\n",
       "      <th>country_6</th>\n",
       "      <td>32596</td>\n",
       "    </tr>\n",
       "    <tr>\n",
       "      <th>country_3</th>\n",
       "      <td>6386</td>\n",
       "    </tr>\n",
       "    <tr>\n",
       "      <th>country_8</th>\n",
       "      <td>4150</td>\n",
       "    </tr>\n",
       "    <tr>\n",
       "      <th>country_1</th>\n",
       "      <td>1155</td>\n",
       "    </tr>\n",
       "  </tbody>\n",
       "</table>\n",
       "</div>"
      ],
      "text/plain": [
       "           event_type\n",
       "country              \n",
       "country_5      109383\n",
       "country_7       80276\n",
       "country_2       79401\n",
       "country_4       58507\n",
       "country_6       32596\n",
       "country_3        6386\n",
       "country_8        4150\n",
       "country_1        1155"
      ]
     },
     "execution_count": 14,
     "metadata": {},
     "output_type": "execute_result"
    }
   ],
   "source": [
    "returning_read.groupby('country').count().sort_values(by = ['event_type'], ascending = False)[['event_type']]"
   ]
  },
  {
   "cell_type": "markdown",
   "id": "4d70e893",
   "metadata": {},
   "source": [
    "### subscriptions per country"
   ]
  },
  {
   "cell_type": "code",
   "execution_count": 15,
   "id": "f6d99125",
   "metadata": {},
   "outputs": [
    {
     "data": {
      "text/html": [
       "<div>\n",
       "<style scoped>\n",
       "    .dataframe tbody tr th:only-of-type {\n",
       "        vertical-align: middle;\n",
       "    }\n",
       "\n",
       "    .dataframe tbody tr th {\n",
       "        vertical-align: top;\n",
       "    }\n",
       "\n",
       "    .dataframe thead th {\n",
       "        text-align: right;\n",
       "    }\n",
       "</style>\n",
       "<table border=\"1\" class=\"dataframe\">\n",
       "  <thead>\n",
       "    <tr style=\"text-align: right;\">\n",
       "      <th></th>\n",
       "      <th>event_type_x</th>\n",
       "    </tr>\n",
       "    <tr>\n",
       "      <th>country</th>\n",
       "      <th></th>\n",
       "    </tr>\n",
       "  </thead>\n",
       "  <tbody>\n",
       "    <tr>\n",
       "      <th>country_5</th>\n",
       "      <td>2334</td>\n",
       "    </tr>\n",
       "    <tr>\n",
       "      <th>country_2</th>\n",
       "      <td>1558</td>\n",
       "    </tr>\n",
       "    <tr>\n",
       "      <th>country_7</th>\n",
       "      <td>1470</td>\n",
       "    </tr>\n",
       "    <tr>\n",
       "      <th>country_4</th>\n",
       "      <td>1419</td>\n",
       "    </tr>\n",
       "    <tr>\n",
       "      <th>country_6</th>\n",
       "      <td>546</td>\n",
       "    </tr>\n",
       "    <tr>\n",
       "      <th>country_3</th>\n",
       "      <td>160</td>\n",
       "    </tr>\n",
       "    <tr>\n",
       "      <th>country_8</th>\n",
       "      <td>103</td>\n",
       "    </tr>\n",
       "    <tr>\n",
       "      <th>country_1</th>\n",
       "      <td>28</td>\n",
       "    </tr>\n",
       "  </tbody>\n",
       "</table>\n",
       "</div>"
      ],
      "text/plain": [
       "           event_type_x\n",
       "country                \n",
       "country_5          2334\n",
       "country_2          1558\n",
       "country_7          1470\n",
       "country_4          1419\n",
       "country_6           546\n",
       "country_3           160\n",
       "country_8           103\n",
       "country_1            28"
      ]
     },
     "execution_count": 15,
     "metadata": {},
     "output_type": "execute_result"
    }
   ],
   "source": [
    "(subscription\n",
    "    .merge(first_read, how = 'left', on = 'user_id')\n",
    "    .groupby('country').count()\n",
    "    .sort_values(by = ['event_type_x'], ascending = False)[['event_type_x']])"
   ]
  },
  {
   "cell_type": "markdown",
   "id": "734ae675",
   "metadata": {},
   "source": [
    "### purchases by country"
   ]
  },
  {
   "cell_type": "code",
   "execution_count": 16,
   "id": "b129078f",
   "metadata": {},
   "outputs": [
    {
     "data": {
      "text/html": [
       "<div>\n",
       "<style scoped>\n",
       "    .dataframe tbody tr th:only-of-type {\n",
       "        vertical-align: middle;\n",
       "    }\n",
       "\n",
       "    .dataframe tbody tr th {\n",
       "        vertical-align: top;\n",
       "    }\n",
       "\n",
       "    .dataframe thead th {\n",
       "        text-align: right;\n",
       "    }\n",
       "</style>\n",
       "<table border=\"1\" class=\"dataframe\">\n",
       "  <thead>\n",
       "    <tr style=\"text-align: right;\">\n",
       "      <th></th>\n",
       "      <th>event_type_x</th>\n",
       "    </tr>\n",
       "    <tr>\n",
       "      <th>country</th>\n",
       "      <th></th>\n",
       "    </tr>\n",
       "  </thead>\n",
       "  <tbody>\n",
       "    <tr>\n",
       "      <th>country_5</th>\n",
       "      <td>2497</td>\n",
       "    </tr>\n",
       "    <tr>\n",
       "      <th>country_2</th>\n",
       "      <td>1791</td>\n",
       "    </tr>\n",
       "    <tr>\n",
       "      <th>country_7</th>\n",
       "      <td>1739</td>\n",
       "    </tr>\n",
       "    <tr>\n",
       "      <th>country_4</th>\n",
       "      <td>1402</td>\n",
       "    </tr>\n",
       "    <tr>\n",
       "      <th>country_6</th>\n",
       "      <td>686</td>\n",
       "    </tr>\n",
       "    <tr>\n",
       "      <th>country_3</th>\n",
       "      <td>146</td>\n",
       "    </tr>\n",
       "    <tr>\n",
       "      <th>country_8</th>\n",
       "      <td>112</td>\n",
       "    </tr>\n",
       "    <tr>\n",
       "      <th>country_1</th>\n",
       "      <td>34</td>\n",
       "    </tr>\n",
       "  </tbody>\n",
       "</table>\n",
       "</div>"
      ],
      "text/plain": [
       "           event_type_x\n",
       "country                \n",
       "country_5          2497\n",
       "country_2          1791\n",
       "country_7          1739\n",
       "country_4          1402\n",
       "country_6           686\n",
       "country_3           146\n",
       "country_8           112\n",
       "country_1            34"
      ]
     },
     "execution_count": 16,
     "metadata": {},
     "output_type": "execute_result"
    }
   ],
   "source": [
    "(purchase\n",
    "    .merge(first_read, how = 'left', on = 'user_id')\n",
    "    .groupby('country')\n",
    "    .count()\n",
    "    .sort_values(by = ['event_type_x'], ascending = False)[['event_type_x']])"
   ]
  },
  {
   "cell_type": "markdown",
   "id": "c854a36b",
   "metadata": {},
   "source": [
    "### first reads by source"
   ]
  },
  {
   "cell_type": "code",
   "execution_count": 17,
   "id": "6c22043e",
   "metadata": {},
   "outputs": [
    {
     "data": {
      "text/html": [
       "<div>\n",
       "<style scoped>\n",
       "    .dataframe tbody tr th:only-of-type {\n",
       "        vertical-align: middle;\n",
       "    }\n",
       "\n",
       "    .dataframe tbody tr th {\n",
       "        vertical-align: top;\n",
       "    }\n",
       "\n",
       "    .dataframe thead th {\n",
       "        text-align: right;\n",
       "    }\n",
       "</style>\n",
       "<table border=\"1\" class=\"dataframe\">\n",
       "  <thead>\n",
       "    <tr style=\"text-align: right;\">\n",
       "      <th></th>\n",
       "      <th>event_type</th>\n",
       "    </tr>\n",
       "    <tr>\n",
       "      <th>source</th>\n",
       "      <th></th>\n",
       "    </tr>\n",
       "  </thead>\n",
       "  <tbody>\n",
       "    <tr>\n",
       "      <th>AdWords</th>\n",
       "      <td>63065</td>\n",
       "    </tr>\n",
       "    <tr>\n",
       "      <th>Reddit</th>\n",
       "      <td>105216</td>\n",
       "    </tr>\n",
       "    <tr>\n",
       "      <th>SEO</th>\n",
       "      <td>41742</td>\n",
       "    </tr>\n",
       "  </tbody>\n",
       "</table>\n",
       "</div>"
      ],
      "text/plain": [
       "         event_type\n",
       "source             \n",
       "AdWords       63065\n",
       "Reddit       105216\n",
       "SEO           41742"
      ]
     },
     "execution_count": 17,
     "metadata": {},
     "output_type": "execute_result"
    }
   ],
   "source": [
    "first_read.groupby('source').count()[['event_type']]"
   ]
  },
  {
   "cell_type": "markdown",
   "id": "c58a5305",
   "metadata": {},
   "source": [
    "### returning reads by source"
   ]
  },
  {
   "cell_type": "code",
   "execution_count": 26,
   "id": "56303aec",
   "metadata": {},
   "outputs": [
    {
     "data": {
      "text/html": [
       "<div>\n",
       "<style scoped>\n",
       "    .dataframe tbody tr th:only-of-type {\n",
       "        vertical-align: middle;\n",
       "    }\n",
       "\n",
       "    .dataframe tbody tr th {\n",
       "        vertical-align: top;\n",
       "    }\n",
       "\n",
       "    .dataframe thead th {\n",
       "        text-align: right;\n",
       "    }\n",
       "</style>\n",
       "<table border=\"1\" class=\"dataframe\">\n",
       "  <thead>\n",
       "    <tr style=\"text-align: right;\">\n",
       "      <th></th>\n",
       "      <th>event_type_x</th>\n",
       "    </tr>\n",
       "    <tr>\n",
       "      <th>source</th>\n",
       "      <th></th>\n",
       "    </tr>\n",
       "  </thead>\n",
       "  <tbody>\n",
       "    <tr>\n",
       "      <th>Reddit</th>\n",
       "      <td>173160</td>\n",
       "    </tr>\n",
       "    <tr>\n",
       "      <th>SEO</th>\n",
       "      <td>140161</td>\n",
       "    </tr>\n",
       "    <tr>\n",
       "      <th>AdWords</th>\n",
       "      <td>58533</td>\n",
       "    </tr>\n",
       "  </tbody>\n",
       "</table>\n",
       "</div>"
      ],
      "text/plain": [
       "         event_type_x\n",
       "source               \n",
       "Reddit         173160\n",
       "SEO            140161\n",
       "AdWords         58533"
      ]
     },
     "execution_count": 26,
     "metadata": {},
     "output_type": "execute_result"
    }
   ],
   "source": [
    "(returning_read\n",
    "    .merge(first_read, how = 'left', on = 'user_id')\n",
    "    .groupby('source')\n",
    "    .count()\n",
    "    .sort_values(by = ['event_type_x'], ascending = False)[['event_type_x']])"
   ]
  },
  {
   "cell_type": "markdown",
   "id": "18ced4b4",
   "metadata": {},
   "source": [
    "### subscriptions per source"
   ]
  },
  {
   "cell_type": "code",
   "execution_count": 19,
   "id": "9a652d6d",
   "metadata": {},
   "outputs": [
    {
     "data": {
      "text/html": [
       "<div>\n",
       "<style scoped>\n",
       "    .dataframe tbody tr th:only-of-type {\n",
       "        vertical-align: middle;\n",
       "    }\n",
       "\n",
       "    .dataframe tbody tr th {\n",
       "        vertical-align: top;\n",
       "    }\n",
       "\n",
       "    .dataframe thead th {\n",
       "        text-align: right;\n",
       "    }\n",
       "</style>\n",
       "<table border=\"1\" class=\"dataframe\">\n",
       "  <thead>\n",
       "    <tr style=\"text-align: right;\">\n",
       "      <th></th>\n",
       "      <th>event_type_x</th>\n",
       "    </tr>\n",
       "    <tr>\n",
       "      <th>source</th>\n",
       "      <th></th>\n",
       "    </tr>\n",
       "  </thead>\n",
       "  <tbody>\n",
       "    <tr>\n",
       "      <th>Reddit</th>\n",
       "      <td>3443</td>\n",
       "    </tr>\n",
       "    <tr>\n",
       "      <th>SEO</th>\n",
       "      <td>3103</td>\n",
       "    </tr>\n",
       "    <tr>\n",
       "      <th>AdWords</th>\n",
       "      <td>1072</td>\n",
       "    </tr>\n",
       "  </tbody>\n",
       "</table>\n",
       "</div>"
      ],
      "text/plain": [
       "         event_type_x\n",
       "source               \n",
       "Reddit           3443\n",
       "SEO              3103\n",
       "AdWords          1072"
      ]
     },
     "execution_count": 19,
     "metadata": {},
     "output_type": "execute_result"
    }
   ],
   "source": [
    "(subscription\n",
    "    .merge(first_read, how = 'left', on = 'user_id')\n",
    "    .groupby('source')\n",
    "    .count()\n",
    "    .sort_values(by = ['event_type_x'], ascending = False)[['event_type_x']])"
   ]
  },
  {
   "cell_type": "markdown",
   "id": "81cce576",
   "metadata": {},
   "source": [
    "### purchases by source"
   ]
  },
  {
   "cell_type": "code",
   "execution_count": 20,
   "id": "40b58f8c",
   "metadata": {},
   "outputs": [
    {
     "data": {
      "text/html": [
       "<div>\n",
       "<style scoped>\n",
       "    .dataframe tbody tr th:only-of-type {\n",
       "        vertical-align: middle;\n",
       "    }\n",
       "\n",
       "    .dataframe tbody tr th {\n",
       "        vertical-align: top;\n",
       "    }\n",
       "\n",
       "    .dataframe thead th {\n",
       "        text-align: right;\n",
       "    }\n",
       "</style>\n",
       "<table border=\"1\" class=\"dataframe\">\n",
       "  <thead>\n",
       "    <tr style=\"text-align: right;\">\n",
       "      <th></th>\n",
       "      <th>event_type_x</th>\n",
       "    </tr>\n",
       "    <tr>\n",
       "      <th>source</th>\n",
       "      <th></th>\n",
       "    </tr>\n",
       "  </thead>\n",
       "  <tbody>\n",
       "    <tr>\n",
       "      <th>Reddit</th>\n",
       "      <td>3903</td>\n",
       "    </tr>\n",
       "    <tr>\n",
       "      <th>SEO</th>\n",
       "      <td>3233</td>\n",
       "    </tr>\n",
       "    <tr>\n",
       "      <th>AdWords</th>\n",
       "      <td>1271</td>\n",
       "    </tr>\n",
       "  </tbody>\n",
       "</table>\n",
       "</div>"
      ],
      "text/plain": [
       "         event_type_x\n",
       "source               \n",
       "Reddit           3903\n",
       "SEO              3233\n",
       "AdWords          1271"
      ]
     },
     "execution_count": 20,
     "metadata": {},
     "output_type": "execute_result"
    }
   ],
   "source": [
    "(purchase\n",
    "    .merge(first_read, how = 'left', on = 'user_id')\n",
    "    .groupby('source')\n",
    "    .count()\n",
    "    .sort_values(by = ['event_type_x'], ascending = False)[['event_type_x']])"
   ]
  },
  {
   "cell_type": "markdown",
   "id": "19bd9f17",
   "metadata": {},
   "source": [
    "### first reads per topic"
   ]
  },
  {
   "cell_type": "code",
   "execution_count": 21,
   "id": "6951b346",
   "metadata": {},
   "outputs": [
    {
     "data": {
      "text/html": [
       "<div>\n",
       "<style scoped>\n",
       "    .dataframe tbody tr th:only-of-type {\n",
       "        vertical-align: middle;\n",
       "    }\n",
       "\n",
       "    .dataframe tbody tr th {\n",
       "        vertical-align: top;\n",
       "    }\n",
       "\n",
       "    .dataframe thead th {\n",
       "        text-align: right;\n",
       "    }\n",
       "</style>\n",
       "<table border=\"1\" class=\"dataframe\">\n",
       "  <thead>\n",
       "    <tr style=\"text-align: right;\">\n",
       "      <th></th>\n",
       "      <th>event_type</th>\n",
       "    </tr>\n",
       "    <tr>\n",
       "      <th>topic</th>\n",
       "      <th></th>\n",
       "    </tr>\n",
       "  </thead>\n",
       "  <tbody>\n",
       "    <tr>\n",
       "      <th>Asia</th>\n",
       "      <td>76092</td>\n",
       "    </tr>\n",
       "    <tr>\n",
       "      <th>Europe</th>\n",
       "      <td>39561</td>\n",
       "    </tr>\n",
       "    <tr>\n",
       "      <th>North America</th>\n",
       "      <td>37567</td>\n",
       "    </tr>\n",
       "    <tr>\n",
       "      <th>South America</th>\n",
       "      <td>25095</td>\n",
       "    </tr>\n",
       "    <tr>\n",
       "      <th>Africa</th>\n",
       "      <td>15913</td>\n",
       "    </tr>\n",
       "    <tr>\n",
       "      <th>Australia</th>\n",
       "      <td>15795</td>\n",
       "    </tr>\n",
       "  </tbody>\n",
       "</table>\n",
       "</div>"
      ],
      "text/plain": [
       "               event_type\n",
       "topic                    \n",
       "Asia                76092\n",
       "Europe              39561\n",
       "North America       37567\n",
       "South America       25095\n",
       "Africa              15913\n",
       "Australia           15795"
      ]
     },
     "execution_count": 21,
     "metadata": {},
     "output_type": "execute_result"
    }
   ],
   "source": [
    "first_read.groupby('topic').count().sort_values(by = ['event_type'], ascending = False)[['event_type']]"
   ]
  },
  {
   "cell_type": "markdown",
   "id": "de5e3af6",
   "metadata": {},
   "source": [
    "### returning reads per topic"
   ]
  },
  {
   "cell_type": "code",
   "execution_count": 22,
   "id": "caacb346",
   "metadata": {},
   "outputs": [
    {
     "data": {
      "text/html": [
       "<div>\n",
       "<style scoped>\n",
       "    .dataframe tbody tr th:only-of-type {\n",
       "        vertical-align: middle;\n",
       "    }\n",
       "\n",
       "    .dataframe tbody tr th {\n",
       "        vertical-align: top;\n",
       "    }\n",
       "\n",
       "    .dataframe thead th {\n",
       "        text-align: right;\n",
       "    }\n",
       "</style>\n",
       "<table border=\"1\" class=\"dataframe\">\n",
       "  <thead>\n",
       "    <tr style=\"text-align: right;\">\n",
       "      <th></th>\n",
       "      <th>event_type</th>\n",
       "    </tr>\n",
       "    <tr>\n",
       "      <th>topic</th>\n",
       "      <th></th>\n",
       "    </tr>\n",
       "  </thead>\n",
       "  <tbody>\n",
       "    <tr>\n",
       "      <th>Asia</th>\n",
       "      <td>118833</td>\n",
       "    </tr>\n",
       "    <tr>\n",
       "      <th>North America</th>\n",
       "      <td>92767</td>\n",
       "    </tr>\n",
       "    <tr>\n",
       "      <th>Europe</th>\n",
       "      <td>54136</td>\n",
       "    </tr>\n",
       "    <tr>\n",
       "      <th>South America</th>\n",
       "      <td>51706</td>\n",
       "    </tr>\n",
       "    <tr>\n",
       "      <th>Africa</th>\n",
       "      <td>27481</td>\n",
       "    </tr>\n",
       "    <tr>\n",
       "      <th>Australia</th>\n",
       "      <td>26931</td>\n",
       "    </tr>\n",
       "  </tbody>\n",
       "</table>\n",
       "</div>"
      ],
      "text/plain": [
       "               event_type\n",
       "topic                    \n",
       "Asia               118833\n",
       "North America       92767\n",
       "Europe              54136\n",
       "South America       51706\n",
       "Africa              27481\n",
       "Australia           26931"
      ]
     },
     "execution_count": 22,
     "metadata": {},
     "output_type": "execute_result"
    }
   ],
   "source": [
    "returning_read.groupby('topic').count().sort_values(by = ['event_type'], ascending = False)[['event_type']]"
   ]
  },
  {
   "cell_type": "markdown",
   "id": "b5450745",
   "metadata": {},
   "source": [
    "### subscriptions per topic"
   ]
  },
  {
   "cell_type": "code",
   "execution_count": 23,
   "id": "4218ca8e",
   "metadata": {},
   "outputs": [
    {
     "data": {
      "text/html": [
       "<div>\n",
       "<style scoped>\n",
       "    .dataframe tbody tr th:only-of-type {\n",
       "        vertical-align: middle;\n",
       "    }\n",
       "\n",
       "    .dataframe tbody tr th {\n",
       "        vertical-align: top;\n",
       "    }\n",
       "\n",
       "    .dataframe thead th {\n",
       "        text-align: right;\n",
       "    }\n",
       "</style>\n",
       "<table border=\"1\" class=\"dataframe\">\n",
       "  <thead>\n",
       "    <tr style=\"text-align: right;\">\n",
       "      <th></th>\n",
       "      <th>event_type_x</th>\n",
       "    </tr>\n",
       "    <tr>\n",
       "      <th>topic</th>\n",
       "      <th></th>\n",
       "    </tr>\n",
       "  </thead>\n",
       "  <tbody>\n",
       "    <tr>\n",
       "      <th>Asia</th>\n",
       "      <td>4364</td>\n",
       "    </tr>\n",
       "    <tr>\n",
       "      <th>North America</th>\n",
       "      <td>1717</td>\n",
       "    </tr>\n",
       "    <tr>\n",
       "      <th>Europe</th>\n",
       "      <td>1033</td>\n",
       "    </tr>\n",
       "    <tr>\n",
       "      <th>South America</th>\n",
       "      <td>405</td>\n",
       "    </tr>\n",
       "    <tr>\n",
       "      <th>Australia</th>\n",
       "      <td>54</td>\n",
       "    </tr>\n",
       "    <tr>\n",
       "      <th>Africa</th>\n",
       "      <td>45</td>\n",
       "    </tr>\n",
       "  </tbody>\n",
       "</table>\n",
       "</div>"
      ],
      "text/plain": [
       "               event_type_x\n",
       "topic                      \n",
       "Asia                   4364\n",
       "North America          1717\n",
       "Europe                 1033\n",
       "South America           405\n",
       "Australia                54\n",
       "Africa                   45"
      ]
     },
     "execution_count": 23,
     "metadata": {},
     "output_type": "execute_result"
    }
   ],
   "source": [
    "(subscription\n",
    "    .merge(first_read, how = 'left', on = 'user_id')\n",
    "    .groupby('topic')\n",
    "    .count()\n",
    "    .sort_values(by = ['event_type_x'], ascending = False)[['event_type_x']])"
   ]
  },
  {
   "cell_type": "markdown",
   "id": "91ec58a8",
   "metadata": {},
   "source": [
    "### purchases per topic"
   ]
  },
  {
   "cell_type": "code",
   "execution_count": 24,
   "id": "b73f4efb",
   "metadata": {},
   "outputs": [
    {
     "data": {
      "text/html": [
       "<div>\n",
       "<style scoped>\n",
       "    .dataframe tbody tr th:only-of-type {\n",
       "        vertical-align: middle;\n",
       "    }\n",
       "\n",
       "    .dataframe tbody tr th {\n",
       "        vertical-align: top;\n",
       "    }\n",
       "\n",
       "    .dataframe thead th {\n",
       "        text-align: right;\n",
       "    }\n",
       "</style>\n",
       "<table border=\"1\" class=\"dataframe\">\n",
       "  <thead>\n",
       "    <tr style=\"text-align: right;\">\n",
       "      <th></th>\n",
       "      <th>event_type_x</th>\n",
       "    </tr>\n",
       "    <tr>\n",
       "      <th>topic</th>\n",
       "      <th></th>\n",
       "    </tr>\n",
       "  </thead>\n",
       "  <tbody>\n",
       "    <tr>\n",
       "      <th>Asia</th>\n",
       "      <td>4848</td>\n",
       "    </tr>\n",
       "    <tr>\n",
       "      <th>North America</th>\n",
       "      <td>1868</td>\n",
       "    </tr>\n",
       "    <tr>\n",
       "      <th>Europe</th>\n",
       "      <td>1167</td>\n",
       "    </tr>\n",
       "    <tr>\n",
       "      <th>South America</th>\n",
       "      <td>447</td>\n",
       "    </tr>\n",
       "    <tr>\n",
       "      <th>Australia</th>\n",
       "      <td>39</td>\n",
       "    </tr>\n",
       "    <tr>\n",
       "      <th>Africa</th>\n",
       "      <td>38</td>\n",
       "    </tr>\n",
       "  </tbody>\n",
       "</table>\n",
       "</div>"
      ],
      "text/plain": [
       "               event_type_x\n",
       "topic                      \n",
       "Asia                   4848\n",
       "North America          1868\n",
       "Europe                 1167\n",
       "South America           447\n",
       "Australia                39\n",
       "Africa                   38"
      ]
     },
     "execution_count": 24,
     "metadata": {},
     "output_type": "execute_result"
    }
   ],
   "source": [
    "(purchase\n",
    "    .merge(first_read, how = 'left', on = 'user_id')\n",
    "    .groupby('topic')\n",
    "    .count()\n",
    "    .sort_values(by = ['event_type_x'], ascending = False)[['event_type_x']])"
   ]
  },
  {
   "cell_type": "markdown",
   "id": "2bc3752f",
   "metadata": {},
   "source": [
    "### first reads per country, source and topic"
   ]
  },
  {
   "cell_type": "code",
   "execution_count": 25,
   "id": "41f07a37",
   "metadata": {},
   "outputs": [
    {
     "data": {
      "text/html": [
       "<div>\n",
       "<style scoped>\n",
       "    .dataframe tbody tr th:only-of-type {\n",
       "        vertical-align: middle;\n",
       "    }\n",
       "\n",
       "    .dataframe tbody tr th {\n",
       "        vertical-align: top;\n",
       "    }\n",
       "\n",
       "    .dataframe thead th {\n",
       "        text-align: right;\n",
       "    }\n",
       "</style>\n",
       "<table border=\"1\" class=\"dataframe\">\n",
       "  <thead>\n",
       "    <tr style=\"text-align: right;\">\n",
       "      <th></th>\n",
       "      <th></th>\n",
       "      <th></th>\n",
       "      <th>event_type</th>\n",
       "    </tr>\n",
       "    <tr>\n",
       "      <th>country</th>\n",
       "      <th>source</th>\n",
       "      <th>topic</th>\n",
       "      <th></th>\n",
       "    </tr>\n",
       "  </thead>\n",
       "  <tbody>\n",
       "    <tr>\n",
       "      <th>country_7</th>\n",
       "      <th>Reddit</th>\n",
       "      <th>Asia</th>\n",
       "      <td>12950</td>\n",
       "    </tr>\n",
       "    <tr>\n",
       "      <th>country_2</th>\n",
       "      <th>Reddit</th>\n",
       "      <th>Asia</th>\n",
       "      <td>12857</td>\n",
       "    </tr>\n",
       "    <tr>\n",
       "      <th>country_5</th>\n",
       "      <th>Reddit</th>\n",
       "      <th>Asia</th>\n",
       "      <td>10065</td>\n",
       "    </tr>\n",
       "    <tr>\n",
       "      <th>country_6</th>\n",
       "      <th>Reddit</th>\n",
       "      <th>Asia</th>\n",
       "      <td>7774</td>\n",
       "    </tr>\n",
       "    <tr>\n",
       "      <th>country_7</th>\n",
       "      <th>AdWords</th>\n",
       "      <th>Europe</th>\n",
       "      <td>6206</td>\n",
       "    </tr>\n",
       "    <tr>\n",
       "      <th>country_2</th>\n",
       "      <th>AdWords</th>\n",
       "      <th>Europe</th>\n",
       "      <td>5991</td>\n",
       "    </tr>\n",
       "    <tr>\n",
       "      <th>country_7</th>\n",
       "      <th>SEO</th>\n",
       "      <th>North America</th>\n",
       "      <td>5050</td>\n",
       "    </tr>\n",
       "    <tr>\n",
       "      <th>country_2</th>\n",
       "      <th>SEO</th>\n",
       "      <th>North America</th>\n",
       "      <td>4993</td>\n",
       "    </tr>\n",
       "    <tr>\n",
       "      <th>country_5</th>\n",
       "      <th>AdWords</th>\n",
       "      <th>Europe</th>\n",
       "      <td>4815</td>\n",
       "    </tr>\n",
       "    <tr>\n",
       "      <th>country_7</th>\n",
       "      <th>AdWords</th>\n",
       "      <th>Asia</th>\n",
       "      <td>4772</td>\n",
       "    </tr>\n",
       "    <tr>\n",
       "      <th>country_2</th>\n",
       "      <th>AdWords</th>\n",
       "      <th>Asia</th>\n",
       "      <td>4574</td>\n",
       "    </tr>\n",
       "    <tr>\n",
       "      <th>country_5</th>\n",
       "      <th>SEO</th>\n",
       "      <th>North America</th>\n",
       "      <td>3994</td>\n",
       "    </tr>\n",
       "    <tr>\n",
       "      <th>country_8</th>\n",
       "      <th>Reddit</th>\n",
       "      <th>Asia</th>\n",
       "      <td>3856</td>\n",
       "    </tr>\n",
       "    <tr>\n",
       "      <th>country_6</th>\n",
       "      <th>AdWords</th>\n",
       "      <th>Europe</th>\n",
       "      <td>3721</td>\n",
       "    </tr>\n",
       "    <tr>\n",
       "      <th>country_5</th>\n",
       "      <th>AdWords</th>\n",
       "      <th>Asia</th>\n",
       "      <td>3679</td>\n",
       "    </tr>\n",
       "    <tr>\n",
       "      <th>country_4</th>\n",
       "      <th>Reddit</th>\n",
       "      <th>Asia</th>\n",
       "      <td>3277</td>\n",
       "    </tr>\n",
       "    <tr>\n",
       "      <th rowspan=\"2\" valign=\"top\">country_6</th>\n",
       "      <th>SEO</th>\n",
       "      <th>North America</th>\n",
       "      <td>3106</td>\n",
       "    </tr>\n",
       "    <tr>\n",
       "      <th>AdWords</th>\n",
       "      <th>Asia</th>\n",
       "      <td>2882</td>\n",
       "    </tr>\n",
       "    <tr>\n",
       "      <th rowspan=\"3\" valign=\"top\">country_7</th>\n",
       "      <th rowspan=\"3\" valign=\"top\">Reddit</th>\n",
       "      <th>Australia</th>\n",
       "      <td>2672</td>\n",
       "    </tr>\n",
       "    <tr>\n",
       "      <th>South America</th>\n",
       "      <td>2632</td>\n",
       "    </tr>\n",
       "    <tr>\n",
       "      <th>Africa</th>\n",
       "      <td>2606</td>\n",
       "    </tr>\n",
       "    <tr>\n",
       "      <th>country_2</th>\n",
       "      <th>Reddit</th>\n",
       "      <th>North America</th>\n",
       "      <td>2585</td>\n",
       "    </tr>\n",
       "    <tr>\n",
       "      <th>country_7</th>\n",
       "      <th>Reddit</th>\n",
       "      <th>Europe</th>\n",
       "      <td>2569</td>\n",
       "    </tr>\n",
       "    <tr>\n",
       "      <th rowspan=\"4\" valign=\"top\">country_2</th>\n",
       "      <th rowspan=\"4\" valign=\"top\">Reddit</th>\n",
       "      <th>Australia</th>\n",
       "      <td>2567</td>\n",
       "    </tr>\n",
       "    <tr>\n",
       "      <th>Africa</th>\n",
       "      <td>2521</td>\n",
       "    </tr>\n",
       "    <tr>\n",
       "      <th>Europe</th>\n",
       "      <td>2513</td>\n",
       "    </tr>\n",
       "    <tr>\n",
       "      <th>South America</th>\n",
       "      <td>2476</td>\n",
       "    </tr>\n",
       "    <tr>\n",
       "      <th>country_7</th>\n",
       "      <th>Reddit</th>\n",
       "      <th>North America</th>\n",
       "      <td>2471</td>\n",
       "    </tr>\n",
       "    <tr>\n",
       "      <th>country_2</th>\n",
       "      <th>SEO</th>\n",
       "      <th>South America</th>\n",
       "      <td>2103</td>\n",
       "    </tr>\n",
       "    <tr>\n",
       "      <th>country_7</th>\n",
       "      <th>SEO</th>\n",
       "      <th>South America</th>\n",
       "      <td>2071</td>\n",
       "    </tr>\n",
       "    <tr>\n",
       "      <th>...</th>\n",
       "      <th>...</th>\n",
       "      <th>...</th>\n",
       "      <td>...</td>\n",
       "    </tr>\n",
       "    <tr>\n",
       "      <th rowspan=\"2\" valign=\"top\">country_4</th>\n",
       "      <th>SEO</th>\n",
       "      <th>Asia</th>\n",
       "      <td>231</td>\n",
       "    </tr>\n",
       "    <tr>\n",
       "      <th>AdWords</th>\n",
       "      <th>Australia</th>\n",
       "      <td>217</td>\n",
       "    </tr>\n",
       "    <tr>\n",
       "      <th>country_8</th>\n",
       "      <th>AdWords</th>\n",
       "      <th>Australia</th>\n",
       "      <td>213</td>\n",
       "    </tr>\n",
       "    <tr>\n",
       "      <th>country_4</th>\n",
       "      <th>AdWords</th>\n",
       "      <th>Africa</th>\n",
       "      <td>197</td>\n",
       "    </tr>\n",
       "    <tr>\n",
       "      <th>country_8</th>\n",
       "      <th>SEO</th>\n",
       "      <th>Africa</th>\n",
       "      <td>162</td>\n",
       "    </tr>\n",
       "    <tr>\n",
       "      <th>country_1</th>\n",
       "      <th>AdWords</th>\n",
       "      <th>North America</th>\n",
       "      <td>160</td>\n",
       "    </tr>\n",
       "    <tr>\n",
       "      <th>country_3</th>\n",
       "      <th>Reddit</th>\n",
       "      <th>Africa</th>\n",
       "      <td>150</td>\n",
       "    </tr>\n",
       "    <tr>\n",
       "      <th>country_4</th>\n",
       "      <th>SEO</th>\n",
       "      <th>Australia</th>\n",
       "      <td>145</td>\n",
       "    </tr>\n",
       "    <tr>\n",
       "      <th>country_8</th>\n",
       "      <th>SEO</th>\n",
       "      <th>Australia</th>\n",
       "      <td>143</td>\n",
       "    </tr>\n",
       "    <tr>\n",
       "      <th rowspan=\"2\" valign=\"top\">country_3</th>\n",
       "      <th rowspan=\"2\" valign=\"top\">Reddit</th>\n",
       "      <th>North America</th>\n",
       "      <td>140</td>\n",
       "    </tr>\n",
       "    <tr>\n",
       "      <th>South America</th>\n",
       "      <td>139</td>\n",
       "    </tr>\n",
       "    <tr>\n",
       "      <th>country_1</th>\n",
       "      <th>AdWords</th>\n",
       "      <th>South America</th>\n",
       "      <td>138</td>\n",
       "    </tr>\n",
       "    <tr>\n",
       "      <th rowspan=\"3\" valign=\"top\">country_3</th>\n",
       "      <th rowspan=\"2\" valign=\"top\">Reddit</th>\n",
       "      <th>Europe</th>\n",
       "      <td>126</td>\n",
       "    </tr>\n",
       "    <tr>\n",
       "      <th>Australia</th>\n",
       "      <td>125</td>\n",
       "    </tr>\n",
       "    <tr>\n",
       "      <th>SEO</th>\n",
       "      <th>South America</th>\n",
       "      <td>114</td>\n",
       "    </tr>\n",
       "    <tr>\n",
       "      <th>country_4</th>\n",
       "      <th>SEO</th>\n",
       "      <th>Africa</th>\n",
       "      <td>113</td>\n",
       "    </tr>\n",
       "    <tr>\n",
       "      <th rowspan=\"2\" valign=\"top\">country_1</th>\n",
       "      <th rowspan=\"2\" valign=\"top\">SEO</th>\n",
       "      <th>Europe</th>\n",
       "      <td>99</td>\n",
       "    </tr>\n",
       "    <tr>\n",
       "      <th>Asia</th>\n",
       "      <td>97</td>\n",
       "    </tr>\n",
       "    <tr>\n",
       "      <th>country_3</th>\n",
       "      <th>AdWords</th>\n",
       "      <th>North America</th>\n",
       "      <td>91</td>\n",
       "    </tr>\n",
       "    <tr>\n",
       "      <th rowspan=\"2\" valign=\"top\">country_1</th>\n",
       "      <th rowspan=\"2\" valign=\"top\">AdWords</th>\n",
       "      <th>Australia</th>\n",
       "      <td>75</td>\n",
       "    </tr>\n",
       "    <tr>\n",
       "      <th>Africa</th>\n",
       "      <td>75</td>\n",
       "    </tr>\n",
       "    <tr>\n",
       "      <th rowspan=\"2\" valign=\"top\">country_3</th>\n",
       "      <th>AdWords</th>\n",
       "      <th>South America</th>\n",
       "      <td>73</td>\n",
       "    </tr>\n",
       "    <tr>\n",
       "      <th>SEO</th>\n",
       "      <th>Europe</th>\n",
       "      <td>64</td>\n",
       "    </tr>\n",
       "    <tr>\n",
       "      <th rowspan=\"2\" valign=\"top\">country_1</th>\n",
       "      <th rowspan=\"2\" valign=\"top\">SEO</th>\n",
       "      <th>Africa</th>\n",
       "      <td>56</td>\n",
       "    </tr>\n",
       "    <tr>\n",
       "      <th>Australia</th>\n",
       "      <td>52</td>\n",
       "    </tr>\n",
       "    <tr>\n",
       "      <th rowspan=\"5\" valign=\"top\">country_3</th>\n",
       "      <th>SEO</th>\n",
       "      <th>Asia</th>\n",
       "      <td>52</td>\n",
       "    </tr>\n",
       "    <tr>\n",
       "      <th rowspan=\"2\" valign=\"top\">AdWords</th>\n",
       "      <th>Australia</th>\n",
       "      <td>50</td>\n",
       "    </tr>\n",
       "    <tr>\n",
       "      <th>Africa</th>\n",
       "      <td>46</td>\n",
       "    </tr>\n",
       "    <tr>\n",
       "      <th rowspan=\"2\" valign=\"top\">SEO</th>\n",
       "      <th>Africa</th>\n",
       "      <td>30</td>\n",
       "    </tr>\n",
       "    <tr>\n",
       "      <th>Australia</th>\n",
       "      <td>27</td>\n",
       "    </tr>\n",
       "  </tbody>\n",
       "</table>\n",
       "<p>144 rows × 1 columns</p>\n",
       "</div>"
      ],
      "text/plain": [
       "                                 event_type\n",
       "country   source  topic                    \n",
       "country_7 Reddit  Asia                12950\n",
       "country_2 Reddit  Asia                12857\n",
       "country_5 Reddit  Asia                10065\n",
       "country_6 Reddit  Asia                 7774\n",
       "country_7 AdWords Europe               6206\n",
       "country_2 AdWords Europe               5991\n",
       "country_7 SEO     North America        5050\n",
       "country_2 SEO     North America        4993\n",
       "country_5 AdWords Europe               4815\n",
       "country_7 AdWords Asia                 4772\n",
       "country_2 AdWords Asia                 4574\n",
       "country_5 SEO     North America        3994\n",
       "country_8 Reddit  Asia                 3856\n",
       "country_6 AdWords Europe               3721\n",
       "country_5 AdWords Asia                 3679\n",
       "country_4 Reddit  Asia                 3277\n",
       "country_6 SEO     North America        3106\n",
       "          AdWords Asia                 2882\n",
       "country_7 Reddit  Australia            2672\n",
       "                  South America        2632\n",
       "                  Africa               2606\n",
       "country_2 Reddit  North America        2585\n",
       "country_7 Reddit  Europe               2569\n",
       "country_2 Reddit  Australia            2567\n",
       "                  Africa               2521\n",
       "                  Europe               2513\n",
       "                  South America        2476\n",
       "country_7 Reddit  North America        2471\n",
       "country_2 SEO     South America        2103\n",
       "country_7 SEO     South America        2071\n",
       "...                                     ...\n",
       "country_4 SEO     Asia                  231\n",
       "          AdWords Australia             217\n",
       "country_8 AdWords Australia             213\n",
       "country_4 AdWords Africa                197\n",
       "country_8 SEO     Africa                162\n",
       "country_1 AdWords North America         160\n",
       "country_3 Reddit  Africa                150\n",
       "country_4 SEO     Australia             145\n",
       "country_8 SEO     Australia             143\n",
       "country_3 Reddit  North America         140\n",
       "                  South America         139\n",
       "country_1 AdWords South America         138\n",
       "country_3 Reddit  Europe                126\n",
       "                  Australia             125\n",
       "          SEO     South America         114\n",
       "country_4 SEO     Africa                113\n",
       "country_1 SEO     Europe                 99\n",
       "                  Asia                   97\n",
       "country_3 AdWords North America          91\n",
       "country_1 AdWords Australia              75\n",
       "                  Africa                 75\n",
       "country_3 AdWords South America          73\n",
       "          SEO     Europe                 64\n",
       "country_1 SEO     Africa                 56\n",
       "                  Australia              52\n",
       "country_3 SEO     Asia                   52\n",
       "          AdWords Australia              50\n",
       "                  Africa                 46\n",
       "          SEO     Africa                 30\n",
       "                  Australia              27\n",
       "\n",
       "[144 rows x 1 columns]"
      ]
     },
     "execution_count": 25,
     "metadata": {},
     "output_type": "execute_result"
    }
   ],
   "source": [
    "first_read.groupby(['country', 'source', 'topic']).count().sort_values(by = ['event_type'], ascending = False)[['event_type']]"
   ]
  },
  {
   "cell_type": "code",
   "execution_count": 28,
   "id": "df19ac98",
   "metadata": {},
   "outputs": [],
   "source": [
    "import numpy as np\n",
    "import pandas as pd\n",
    "import matplotlib\n",
    "import matplotlib.pyplot as plt \n",
    "%matplotlib inline"
   ]
  },
  {
   "cell_type": "markdown",
   "id": "00c071d8",
   "metadata": {},
   "source": [
    "### daily first reads"
   ]
  },
  {
   "cell_type": "code",
   "execution_count": 29,
   "id": "21588f0e",
   "metadata": {},
   "outputs": [],
   "source": [
    "daily_first_read = first_read.groupby('date_time').count().event_type"
   ]
  },
  {
   "cell_type": "code",
   "execution_count": 30,
   "id": "937de7f9",
   "metadata": {},
   "outputs": [
    {
     "data": {
      "text/plain": [
       "<matplotlib.axes._subplots.AxesSubplot at 0x7f725c33a7b8>"
      ]
     },
     "execution_count": 30,
     "metadata": {},
     "output_type": "execute_result"
    },
    {
     "data": {
      "image/png": "[encoded data removed]",
      "text/plain": [
       "<matplotlib.figure.Figure at 0x7f725d8ee2e8>"
      ]
     },
     "metadata": {
      "needs_background": "light"
     },
     "output_type": "display_data"
    }
   ],
   "source": [
    "daily_first_read.plot()"
   ]
  },
  {
   "cell_type": "markdown",
   "id": "fd83f311",
   "metadata": {},
   "source": [
    "### future trend for first-time readers"
   ]
  },
  {
   "cell_type": "code",
   "execution_count": 29,
   "id": "9572b591",
   "metadata": {},
   "outputs": [],
   "source": [
    "daily_first_read_clean = daily_first_read.reset_index(drop = True)"
   ]
  },
  {
   "cell_type": "code",
   "execution_count": 30,
   "id": "bd168ce7",
   "metadata": {},
   "outputs": [],
   "source": [
    "x_fr = daily_first_read_clean.index\n",
    "y_fr = daily_first_read_clean.values"
   ]
  },
  {
   "cell_type": "code",
   "execution_count": 31,
   "id": "bf479f81",
   "metadata": {},
   "outputs": [],
   "source": [
    "coefs = np.polyfit(x_fr, y_fr, 1)\n",
    "predict = np.poly1d(coefs)"
   ]
  },
  {
   "cell_type": "code",
   "execution_count": 32,
   "id": "855ea9c8",
   "metadata": {},
   "outputs": [
    {
     "data": {
      "image/png": "[encoded data removed]",
      "text/plain": [
       "<matplotlib.figure.Figure at 0x7f043b81d978>"
      ]
     },
     "metadata": {
      "needs_background": "light"
     },
     "output_type": "display_data"
    }
   ],
   "source": [
    "x_fr_test = np.linspace(0, 100)\n",
    "y_fr_pred = predict(x_fr_test[:, None])\n",
    "plt.scatter(x_fr, y_fr)\n",
    "plt.plot(x_fr_test, y_fr_pred, c = 'r')\n",
    "plt.show()"
   ]
  },
  {
   "cell_type": "code",
   "execution_count": 33,
   "id": "4ca35f2e",
   "metadata": {},
   "outputs": [
    {
     "data": {
      "text/plain": [
       "0.9778173691382872"
      ]
     },
     "execution_count": 33,
     "metadata": {},
     "output_type": "execute_result"
    }
   ],
   "source": [
    "from sklearn.metrics import r2_score\n",
    "r2_score(y_fr, predict(x_fr))"
   ]
  },
  {
   "cell_type": "code",
   "execution_count": 34,
   "id": "8fedc92f",
   "metadata": {},
   "outputs": [
    {
     "data": {
      "text/plain": [
       "3401.6015662240397"
      ]
     },
     "execution_count": 34,
     "metadata": {},
     "output_type": "execute_result"
    }
   ],
   "source": [
    "predict(90 + 30)"
   ]
  },
  {
   "cell_type": "markdown",
   "id": "7057548f",
   "metadata": {},
   "source": [
    "### daily returning reads"
   ]
  },
  {
   "cell_type": "code",
   "execution_count": 35,
   "id": "dfd9afee",
   "metadata": {},
   "outputs": [],
   "source": [
    "daily_returning_read = returning_read.groupby('date_time').count().event_type"
   ]
  },
  {
   "cell_type": "code",
   "execution_count": 36,
   "id": "769332e8",
   "metadata": {},
   "outputs": [
    {
     "data": {
      "text/plain": [
       "<matplotlib.axes._subplots.AxesSubplot at 0x7f042e21e8d0>"
      ]
     },
     "execution_count": 36,
     "metadata": {},
     "output_type": "execute_result"
    },
    {
     "data": {
      "image/png": "[encoded data removed]",
      "text/plain": [
       "<matplotlib.figure.Figure at 0x7f045400a908>"
      ]
     },
     "metadata": {
      "needs_background": "light"
     },
     "output_type": "display_data"
    }
   ],
   "source": [
    "daily_returning_read.plot()"
   ]
  },
  {
   "cell_type": "markdown",
   "id": "5f4fd787",
   "metadata": {},
   "source": [
    "### future trend for returning reads"
   ]
  },
  {
   "cell_type": "code",
   "execution_count": 37,
   "id": "f127b602",
   "metadata": {},
   "outputs": [],
   "source": [
    "daily_returning_read_clean = daily_returning_read.reset_index(drop = True)"
   ]
  },
  {
   "cell_type": "code",
   "execution_count": 38,
   "id": "7e09df73",
   "metadata": {},
   "outputs": [],
   "source": [
    "x_rr = daily_returning_read_clean.index\n",
    "y_rr = daily_returning_read_clean.values"
   ]
  },
  {
   "cell_type": "code",
   "execution_count": 39,
   "id": "15b6fbd1",
   "metadata": {},
   "outputs": [],
   "source": [
    "coefs = np.polyfit(x_rr, y_rr, 1)\n",
    "predict = np.poly1d(coefs)"
   ]
  },
  {
   "cell_type": "code",
   "execution_count": 40,
   "id": "b7e1e2f0",
   "metadata": {},
   "outputs": [
    {
     "data": {
      "image/png": "[encoded data removed]",
      "text/plain": [
       "<matplotlib.figure.Figure at 0x7f042e21e7f0>"
      ]
     },
     "metadata": {
      "needs_background": "light"
     },
     "output_type": "display_data"
    }
   ],
   "source": [
    "x_rr_test = np.linspace(0, 100)\n",
    "y_rr_pred = predict(x_rr_test[:, None])\n",
    "plt.scatter(x_rr, y_rr)\n",
    "plt.plot(x_rr_test, y_rr_pred, c = 'r')\n",
    "plt.show()"
   ]
  },
  {
   "cell_type": "code",
   "execution_count": 41,
   "id": "0cf8092d",
   "metadata": {},
   "outputs": [
    {
     "data": {
      "text/plain": [
       "0.6047930538567374"
      ]
     },
     "execution_count": 41,
     "metadata": {},
     "output_type": "execute_result"
    }
   ],
   "source": [
    "from sklearn.metrics import r2_score\n",
    "r2_score(y_rr, predict(x_rr))"
   ]
  },
  {
   "cell_type": "code",
   "execution_count": 42,
   "id": "3932e3b5",
   "metadata": {},
   "outputs": [
    {
     "data": {
      "text/plain": [
       "10993.731072423203"
      ]
     },
     "execution_count": 42,
     "metadata": {},
     "output_type": "execute_result"
    }
   ],
   "source": [
    "predict(90 + 30)"
   ]
  },
  {
   "cell_type": "markdown",
   "id": "62134c26",
   "metadata": {},
   "source": [
    "### daily subscriptions"
   ]
  },
  {
   "cell_type": "code",
   "execution_count": 43,
   "id": "8db81766",
   "metadata": {},
   "outputs": [],
   "source": [
    "daily_subscription = subscription.groupby('date_time').count().event_type"
   ]
  },
  {
   "cell_type": "code",
   "execution_count": 44,
   "id": "67f40674",
   "metadata": {},
   "outputs": [
    {
     "data": {
      "text/plain": [
       "<matplotlib.axes._subplots.AxesSubplot at 0x7f042e191d30>"
      ]
     },
     "execution_count": 44,
     "metadata": {},
     "output_type": "execute_result"
    },
    {
     "data": {
      "image/png": "[encoded data removed]",
      "text/plain": [
       "<matplotlib.figure.Figure at 0x7f043b7d3cc0>"
      ]
     },
     "metadata": {
      "needs_background": "light"
     },
     "output_type": "display_data"
    }
   ],
   "source": [
    "daily_subscription.plot()"
   ]
  },
  {
   "cell_type": "markdown",
   "id": "afbc89d3",
   "metadata": {},
   "source": [
    "### future trend for subscriptions"
   ]
  },
  {
   "cell_type": "code",
   "execution_count": 45,
   "id": "1939c51a",
   "metadata": {},
   "outputs": [],
   "source": [
    "daily_subscription_clean = daily_subscription.reset_index(drop = True)"
   ]
  },
  {
   "cell_type": "code",
   "execution_count": 46,
   "id": "8eef9b56",
   "metadata": {},
   "outputs": [],
   "source": [
    "x_s = daily_subscription_clean.index\n",
    "y_s = daily_subscription_clean.values"
   ]
  },
  {
   "cell_type": "code",
   "execution_count": 47,
   "id": "ace049e3",
   "metadata": {},
   "outputs": [],
   "source": [
    "coefs = np.polyfit(x_s, y_s, 1)\n",
    "predict = np.poly1d(coefs)"
   ]
  },
  {
   "cell_type": "code",
   "execution_count": 48,
   "id": "10357f6b",
   "metadata": {},
   "outputs": [
    {
     "data": {
      "image/png": "[encoded data removed]",
      "text/plain": [
       "<matplotlib.figure.Figure at 0x7f0447abad30>"
      ]
     },
     "metadata": {
      "needs_background": "light"
     },
     "output_type": "display_data"
    }
   ],
   "source": [
    "x_s_test = np.linspace(0, 100)\n",
    "y_s_pred = predict(x_s_test[:, None])\n",
    "plt.scatter(x_s, y_s)\n",
    "plt.plot(x_s_test, y_s_pred, c = 'r')\n",
    "plt.show()"
   ]
  },
  {
   "cell_type": "code",
   "execution_count": 49,
   "id": "bba2b77a",
   "metadata": {},
   "outputs": [
    {
     "data": {
      "text/plain": [
       "0.23478327724565584"
      ]
     },
     "execution_count": 49,
     "metadata": {},
     "output_type": "execute_result"
    }
   ],
   "source": [
    "from sklearn.metrics import r2_score\n",
    "r2_score(y_s, predict(x_s))"
   ]
  },
  {
   "cell_type": "code",
   "execution_count": 50,
   "id": "f719b0ed",
   "metadata": {},
   "outputs": [
    {
     "data": {
      "text/plain": [
       "133.58910452843037"
      ]
     },
     "execution_count": 50,
     "metadata": {},
     "output_type": "execute_result"
    }
   ],
   "source": [
    "predict(90 + 30)"
   ]
  },
  {
   "cell_type": "markdown",
   "id": "bb1d8e80",
   "metadata": {},
   "source": [
    "### daily purchases"
   ]
  },
  {
   "cell_type": "code",
   "execution_count": 51,
   "id": "dd86fee1",
   "metadata": {},
   "outputs": [],
   "source": [
    "daily_purchase = purchase.groupby('date_time').count().event_type"
   ]
  },
  {
   "cell_type": "code",
   "execution_count": 52,
   "id": "30f602da",
   "metadata": {},
   "outputs": [
    {
     "data": {
      "text/plain": [
       "<matplotlib.axes._subplots.AxesSubplot at 0x7f043b7a1588>"
      ]
     },
     "execution_count": 52,
     "metadata": {},
     "output_type": "execute_result"
    },
    {
     "data": {
      "image/png": "[encoded data removed]",
      "text/plain": [
       "<matplotlib.figure.Figure at 0x7f042e16c588>"
      ]
     },
     "metadata": {
      "needs_background": "light"
     },
     "output_type": "display_data"
    }
   ],
   "source": [
    "daily_purchase.plot()"
   ]
  },
  {
   "cell_type": "markdown",
   "id": "1445da5b",
   "metadata": {},
   "source": [
    "### future trend for purchases"
   ]
  },
  {
   "cell_type": "code",
   "execution_count": 53,
   "id": "2b12d3a2",
   "metadata": {},
   "outputs": [],
   "source": [
    "daily_purchase_clean = daily_purchase.reset_index(drop = True)"
   ]
  },
  {
   "cell_type": "code",
   "execution_count": 54,
   "id": "5a7ee267",
   "metadata": {},
   "outputs": [],
   "source": [
    "x_p = daily_purchase_clean.index\n",
    "y_p = daily_purchase_clean.values"
   ]
  },
  {
   "cell_type": "code",
   "execution_count": 55,
   "id": "a68f0ccb",
   "metadata": {},
   "outputs": [],
   "source": [
    "coefs = np.polyfit(x_p, y_p, 1)\n",
    "predict = np.poly1d(coefs)"
   ]
  },
  {
   "cell_type": "code",
   "execution_count": 56,
   "id": "0715200f",
   "metadata": {},
   "outputs": [
    {
     "data": {
      "image/png": "[encoded data removed]",
      "text/plain": [
       "<matplotlib.figure.Figure at 0x7f042e0e6438>"
      ]
     },
     "metadata": {
      "needs_background": "light"
     },
     "output_type": "display_data"
    }
   ],
   "source": [
    "x_p_test = np.linspace(0, 100)\n",
    "y_p_pred = predict(x_p_test[:, None])\n",
    "plt.scatter(x_p, y_p)\n",
    "plt.plot(x_p_test, y_p_pred, c = 'r')\n",
    "plt.show()"
   ]
  },
  {
   "cell_type": "code",
   "execution_count": 57,
   "id": "2c6c6ffc",
   "metadata": {},
   "outputs": [
    {
     "data": {
      "text/plain": [
       "0.5823487611483158"
      ]
     },
     "execution_count": 57,
     "metadata": {},
     "output_type": "execute_result"
    }
   ],
   "source": [
    "from sklearn.metrics import r2_score\n",
    "r2_score(y_p, predict(x_p))"
   ]
  },
  {
   "cell_type": "code",
   "execution_count": 58,
   "id": "0ff49cab",
   "metadata": {},
   "outputs": [
    {
     "data": {
      "text/html": [
       "<div>\n",
       "<style scoped>\n",
       "    .dataframe tbody tr th:only-of-type {\n",
       "        vertical-align: middle;\n",
       "    }\n",
       "\n",
       "    .dataframe tbody tr th {\n",
       "        vertical-align: top;\n",
       "    }\n",
       "\n",
       "    .dataframe thead th {\n",
       "        text-align: right;\n",
       "    }\n",
       "</style>\n",
       "<table border=\"1\" class=\"dataframe\">\n",
       "  <thead>\n",
       "    <tr style=\"text-align: right;\">\n",
       "      <th></th>\n",
       "      <th>date_time</th>\n",
       "      <th>event_type</th>\n",
       "      <th>country</th>\n",
       "      <th>user_id</th>\n",
       "      <th>source</th>\n",
       "      <th>topic</th>\n",
       "    </tr>\n",
       "  </thead>\n",
       "  <tbody>\n",
       "    <tr>\n",
       "      <th>210018</th>\n",
       "      <td>2018-03-30</td>\n",
       "      <td>read</td>\n",
       "      <td>country_1</td>\n",
       "      <td>2458361279</td>\n",
       "      <td>SEO</td>\n",
       "      <td>North America</td>\n",
       "    </tr>\n",
       "    <tr>\n",
       "      <th>210019</th>\n",
       "      <td>2018-03-30</td>\n",
       "      <td>read</td>\n",
       "      <td>country_6</td>\n",
       "      <td>2458361280</td>\n",
       "      <td>AdWords</td>\n",
       "      <td>Asia</td>\n",
       "    </tr>\n",
       "    <tr>\n",
       "      <th>210020</th>\n",
       "      <td>2018-03-30</td>\n",
       "      <td>read</td>\n",
       "      <td>country_8</td>\n",
       "      <td>2458361281</td>\n",
       "      <td>AdWords</td>\n",
       "      <td>Europe</td>\n",
       "    </tr>\n",
       "    <tr>\n",
       "      <th>210021</th>\n",
       "      <td>2018-03-30</td>\n",
       "      <td>read</td>\n",
       "      <td>country_5</td>\n",
       "      <td>2458361282</td>\n",
       "      <td>AdWords</td>\n",
       "      <td>Europe</td>\n",
       "    </tr>\n",
       "    <tr>\n",
       "      <th>210022</th>\n",
       "      <td>2018-03-30</td>\n",
       "      <td>read</td>\n",
       "      <td>country_5</td>\n",
       "      <td>2458361283</td>\n",
       "      <td>Reddit</td>\n",
       "      <td>Asia</td>\n",
       "    </tr>\n",
       "  </tbody>\n",
       "</table>\n",
       "</div>"
      ],
      "text/plain": [
       "         date_time event_type    country     user_id   source          topic\n",
       "210018  2018-03-30       read  country_1  2458361279      SEO  North America\n",
       "210019  2018-03-30       read  country_6  2458361280  AdWords           Asia\n",
       "210020  2018-03-30       read  country_8  2458361281  AdWords         Europe\n",
       "210021  2018-03-30       read  country_5  2458361282  AdWords         Europe\n",
       "210022  2018-03-30       read  country_5  2458361283   Reddit           Asia"
      ]
     },
     "execution_count": 58,
     "metadata": {},
     "output_type": "execute_result"
    }
   ],
   "source": [
    "first_read.tail()"
   ]
  },
  {
   "cell_type": "markdown",
   "id": "384f1b7a",
   "metadata": {},
   "source": [
    "### cohort analysis"
   ]
  },
  {
   "cell_type": "code",
   "execution_count": 114,
   "id": "b6c0a7ec",
   "metadata": {},
   "outputs": [],
   "source": [
    "date_list = ['2018-01-01', \n",
    "             '2018-01-02', \n",
    "             '2018-01-03', \n",
    "             '2018-01-04', \n",
    "             '2018-01-05', \n",
    "             '2018-01-06', \n",
    "             '2018-01-07',\n",
    "             '2018-01-08', \n",
    "             '2018-01-09', \n",
    "             '2018-01-10', \n",
    "             '2018-01-11',\n",
    "             '2018-01-12', \n",
    "             '2018-01-13', \n",
    "             '2018-01-14', \n",
    "             '2018-01-15', \n",
    "             '2018-01-16', \n",
    "             '2018-01-17',\n",
    "             '2018-01-18',\n",
    "             '2018-01-19', \n",
    "             '2018-01-20',\n",
    "             '2018-01-21',\n",
    "             '2018-01-22', \n",
    "             '2018-01-23',\n",
    "             '2018-01-24',\n",
    "             '2018-01-25', \n",
    "             '2018-01-26',\n",
    "             '2018-01-27',\n",
    "             '2018-01-28']\n",
    "             "
   ]
  },
  {
   "cell_type": "code",
   "execution_count": 115,
   "id": "653711d7",
   "metadata": {},
   "outputs": [],
   "source": [
    "cohort_analysis = pd.DataFrame(index=date_list, columns=range(14))"
   ]
  },
  {
   "cell_type": "code",
   "execution_count": 116,
   "id": "69bc22d5",
   "metadata": {},
   "outputs": [],
   "source": [
    "idx_cohort = 0\n",
    "for cohort in date_list[:14]:\n",
    "    cohort_users = first_read[first_read['date_time'] == cohort].user_id.drop_duplicates()\n",
    "    for d in range(14):\n",
    "        ret_read = returning_read[returning_read['date_time'] == date_list[idx_cohort + d]].user_id.drop_duplicates()\n",
    "        current_cell = (pd.Series(list(set(cohort_users).intersection(set(ret_read)))).count())\n",
    "        cohort_analysis.at[cohort, d] = current_cell\n",
    "    \n",
    "    idx_cohort = idx_cohort + 1"
   ]
  },
  {
   "cell_type": "code",
   "execution_count": 117,
   "id": "443dd2bd",
   "metadata": {},
   "outputs": [],
   "source": [
    "cohort_analysis = cohort_analysis.head(14)"
   ]
  },
  {
   "cell_type": "code",
   "execution_count": 120,
   "id": "226f7d32",
   "metadata": {},
   "outputs": [],
   "source": [
    "cohort_analysis.to_csv('cohort_analysis.csv')"
   ]
  },
  {
   "cell_type": "code",
   "execution_count": 121,
   "id": "0c153ce9",
   "metadata": {},
   "outputs": [
    {
     "data": {
      "text/html": [
       "<div>\n",
       "<style scoped>\n",
       "    .dataframe tbody tr th:only-of-type {\n",
       "        vertical-align: middle;\n",
       "    }\n",
       "\n",
       "    .dataframe tbody tr th {\n",
       "        vertical-align: top;\n",
       "    }\n",
       "\n",
       "    .dataframe thead th {\n",
       "        text-align: right;\n",
       "    }\n",
       "</style>\n",
       "<table border=\"1\" class=\"dataframe\">\n",
       "  <thead>\n",
       "    <tr style=\"text-align: right;\">\n",
       "      <th></th>\n",
       "      <th>0</th>\n",
       "      <th>1</th>\n",
       "      <th>2</th>\n",
       "      <th>3</th>\n",
       "      <th>4</th>\n",
       "      <th>5</th>\n",
       "      <th>6</th>\n",
       "      <th>7</th>\n",
       "      <th>8</th>\n",
       "      <th>9</th>\n",
       "      <th>10</th>\n",
       "      <th>11</th>\n",
       "      <th>12</th>\n",
       "      <th>13</th>\n",
       "    </tr>\n",
       "  </thead>\n",
       "  <tbody>\n",
       "    <tr>\n",
       "      <th>2018-01-01</th>\n",
       "      <td>47</td>\n",
       "      <td>37</td>\n",
       "      <td>28</td>\n",
       "      <td>35</td>\n",
       "      <td>26</td>\n",
       "      <td>25</td>\n",
       "      <td>17</td>\n",
       "      <td>23</td>\n",
       "      <td>36</td>\n",
       "      <td>29</td>\n",
       "      <td>25</td>\n",
       "      <td>28</td>\n",
       "      <td>19</td>\n",
       "      <td>25</td>\n",
       "    </tr>\n",
       "    <tr>\n",
       "      <th>2018-01-02</th>\n",
       "      <td>41</td>\n",
       "      <td>42</td>\n",
       "      <td>51</td>\n",
       "      <td>42</td>\n",
       "      <td>38</td>\n",
       "      <td>29</td>\n",
       "      <td>34</td>\n",
       "      <td>39</td>\n",
       "      <td>33</td>\n",
       "      <td>29</td>\n",
       "      <td>24</td>\n",
       "      <td>19</td>\n",
       "      <td>27</td>\n",
       "      <td>23</td>\n",
       "    </tr>\n",
       "    <tr>\n",
       "      <th>2018-01-03</th>\n",
       "      <td>38</td>\n",
       "      <td>52</td>\n",
       "      <td>43</td>\n",
       "      <td>36</td>\n",
       "      <td>23</td>\n",
       "      <td>28</td>\n",
       "      <td>34</td>\n",
       "      <td>20</td>\n",
       "      <td>16</td>\n",
       "      <td>18</td>\n",
       "      <td>14</td>\n",
       "      <td>17</td>\n",
       "      <td>10</td>\n",
       "      <td>13</td>\n",
       "    </tr>\n",
       "    <tr>\n",
       "      <th>2018-01-04</th>\n",
       "      <td>56</td>\n",
       "      <td>56</td>\n",
       "      <td>42</td>\n",
       "      <td>31</td>\n",
       "      <td>34</td>\n",
       "      <td>42</td>\n",
       "      <td>38</td>\n",
       "      <td>41</td>\n",
       "      <td>33</td>\n",
       "      <td>23</td>\n",
       "      <td>29</td>\n",
       "      <td>26</td>\n",
       "      <td>25</td>\n",
       "      <td>22</td>\n",
       "    </tr>\n",
       "    <tr>\n",
       "      <th>2018-01-05</th>\n",
       "      <td>54</td>\n",
       "      <td>48</td>\n",
       "      <td>34</td>\n",
       "      <td>34</td>\n",
       "      <td>30</td>\n",
       "      <td>29</td>\n",
       "      <td>27</td>\n",
       "      <td>28</td>\n",
       "      <td>21</td>\n",
       "      <td>28</td>\n",
       "      <td>21</td>\n",
       "      <td>15</td>\n",
       "      <td>14</td>\n",
       "      <td>5</td>\n",
       "    </tr>\n",
       "    <tr>\n",
       "      <th>2018-01-06</th>\n",
       "      <td>79</td>\n",
       "      <td>68</td>\n",
       "      <td>50</td>\n",
       "      <td>53</td>\n",
       "      <td>35</td>\n",
       "      <td>26</td>\n",
       "      <td>19</td>\n",
       "      <td>17</td>\n",
       "      <td>24</td>\n",
       "      <td>27</td>\n",
       "      <td>27</td>\n",
       "      <td>23</td>\n",
       "      <td>8</td>\n",
       "      <td>27</td>\n",
       "    </tr>\n",
       "    <tr>\n",
       "      <th>2018-01-07</th>\n",
       "      <td>62</td>\n",
       "      <td>67</td>\n",
       "      <td>61</td>\n",
       "      <td>49</td>\n",
       "      <td>40</td>\n",
       "      <td>32</td>\n",
       "      <td>24</td>\n",
       "      <td>26</td>\n",
       "      <td>23</td>\n",
       "      <td>23</td>\n",
       "      <td>20</td>\n",
       "      <td>8</td>\n",
       "      <td>29</td>\n",
       "      <td>23</td>\n",
       "    </tr>\n",
       "    <tr>\n",
       "      <th>2018-01-08</th>\n",
       "      <td>95</td>\n",
       "      <td>91</td>\n",
       "      <td>65</td>\n",
       "      <td>55</td>\n",
       "      <td>44</td>\n",
       "      <td>34</td>\n",
       "      <td>34</td>\n",
       "      <td>32</td>\n",
       "      <td>32</td>\n",
       "      <td>25</td>\n",
       "      <td>5</td>\n",
       "      <td>25</td>\n",
       "      <td>20</td>\n",
       "      <td>12</td>\n",
       "    </tr>\n",
       "    <tr>\n",
       "      <th>2018-01-09</th>\n",
       "      <td>110</td>\n",
       "      <td>89</td>\n",
       "      <td>48</td>\n",
       "      <td>39</td>\n",
       "      <td>28</td>\n",
       "      <td>36</td>\n",
       "      <td>28</td>\n",
       "      <td>17</td>\n",
       "      <td>14</td>\n",
       "      <td>5</td>\n",
       "      <td>18</td>\n",
       "      <td>15</td>\n",
       "      <td>9</td>\n",
       "      <td>7</td>\n",
       "    </tr>\n",
       "    <tr>\n",
       "      <th>2018-01-10</th>\n",
       "      <td>107</td>\n",
       "      <td>103</td>\n",
       "      <td>69</td>\n",
       "      <td>52</td>\n",
       "      <td>53</td>\n",
       "      <td>38</td>\n",
       "      <td>34</td>\n",
       "      <td>29</td>\n",
       "      <td>22</td>\n",
       "      <td>28</td>\n",
       "      <td>26</td>\n",
       "      <td>15</td>\n",
       "      <td>12</td>\n",
       "      <td>8</td>\n",
       "    </tr>\n",
       "    <tr>\n",
       "      <th>2018-01-11</th>\n",
       "      <td>91</td>\n",
       "      <td>103</td>\n",
       "      <td>72</td>\n",
       "      <td>75</td>\n",
       "      <td>54</td>\n",
       "      <td>51</td>\n",
       "      <td>39</td>\n",
       "      <td>25</td>\n",
       "      <td>35</td>\n",
       "      <td>33</td>\n",
       "      <td>25</td>\n",
       "      <td>19</td>\n",
       "      <td>12</td>\n",
       "      <td>25</td>\n",
       "    </tr>\n",
       "    <tr>\n",
       "      <th>2018-01-12</th>\n",
       "      <td>132</td>\n",
       "      <td>128</td>\n",
       "      <td>114</td>\n",
       "      <td>82</td>\n",
       "      <td>64</td>\n",
       "      <td>49</td>\n",
       "      <td>39</td>\n",
       "      <td>40</td>\n",
       "      <td>28</td>\n",
       "      <td>20</td>\n",
       "      <td>18</td>\n",
       "      <td>15</td>\n",
       "      <td>24</td>\n",
       "      <td>15</td>\n",
       "    </tr>\n",
       "    <tr>\n",
       "      <th>2018-01-13</th>\n",
       "      <td>130</td>\n",
       "      <td>126</td>\n",
       "      <td>93</td>\n",
       "      <td>81</td>\n",
       "      <td>56</td>\n",
       "      <td>33</td>\n",
       "      <td>45</td>\n",
       "      <td>37</td>\n",
       "      <td>19</td>\n",
       "      <td>15</td>\n",
       "      <td>14</td>\n",
       "      <td>24</td>\n",
       "      <td>20</td>\n",
       "      <td>24</td>\n",
       "    </tr>\n",
       "    <tr>\n",
       "      <th>2018-01-14</th>\n",
       "      <td>122</td>\n",
       "      <td>109</td>\n",
       "      <td>92</td>\n",
       "      <td>61</td>\n",
       "      <td>41</td>\n",
       "      <td>54</td>\n",
       "      <td>37</td>\n",
       "      <td>21</td>\n",
       "      <td>17</td>\n",
       "      <td>14</td>\n",
       "      <td>36</td>\n",
       "      <td>27</td>\n",
       "      <td>31</td>\n",
       "      <td>28</td>\n",
       "    </tr>\n",
       "  </tbody>\n",
       "</table>\n",
       "</div>"
      ],
      "text/plain": [
       "             0    1    2   3   4   5   6   7   8   9   10  11  12  13\n",
       "2018-01-01   47   37   28  35  26  25  17  23  36  29  25  28  19  25\n",
       "2018-01-02   41   42   51  42  38  29  34  39  33  29  24  19  27  23\n",
       "2018-01-03   38   52   43  36  23  28  34  20  16  18  14  17  10  13\n",
       "2018-01-04   56   56   42  31  34  42  38  41  33  23  29  26  25  22\n",
       "2018-01-05   54   48   34  34  30  29  27  28  21  28  21  15  14   5\n",
       "2018-01-06   79   68   50  53  35  26  19  17  24  27  27  23   8  27\n",
       "2018-01-07   62   67   61  49  40  32  24  26  23  23  20   8  29  23\n",
       "2018-01-08   95   91   65  55  44  34  34  32  32  25   5  25  20  12\n",
       "2018-01-09  110   89   48  39  28  36  28  17  14   5  18  15   9   7\n",
       "2018-01-10  107  103   69  52  53  38  34  29  22  28  26  15  12   8\n",
       "2018-01-11   91  103   72  75  54  51  39  25  35  33  25  19  12  25\n",
       "2018-01-12  132  128  114  82  64  49  39  40  28  20  18  15  24  15\n",
       "2018-01-13  130  126   93  81  56  33  45  37  19  15  14  24  20  24\n",
       "2018-01-14  122  109   92  61  41  54  37  21  17  14  36  27  31  28"
      ]
     },
     "execution_count": 121,
     "metadata": {},
     "output_type": "execute_result"
    }
   ],
   "source": [
    "cohort_analysis"
   ]
  },
  {
   "cell_type": "code",
   "execution_count": null,
   "id": "65382d48",
   "metadata": {},
   "outputs": [],
   "source": []
  }
 ],
 "metadata": {
  "kernelspec": {
   "display_name": "Python 3",
   "language": "python",
   "name": "python3"
  },
  "language_info": {
   "codemirror_mode": {
    "name": "ipython",
    "version": 3
   },
   "file_extension": ".py",
   "mimetype": "text/x-python",
   "name": "python",
   "nbconvert_exporter": "python",
   "pygments_lexer": "ipython3",
   "version": "3.6.9"
  }
 },
 "nbformat": 4,
 "nbformat_minor": 5
}
